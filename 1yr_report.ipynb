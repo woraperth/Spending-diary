{
 "cells": [
  {
   "cell_type": "code",
   "execution_count": 1,
   "metadata": {
    "collapsed": true
   },
   "outputs": [],
   "source": [
    "import pandas as pd"
   ]
  },
  {
   "cell_type": "code",
   "execution_count": 4,
   "metadata": {},
   "outputs": [],
   "source": [
    "# Load the data set (all transactions in 1 year)\n",
    "data = pd.read_csv('072016_072017.csv')"
   ]
  },
  {
   "cell_type": "code",
   "execution_count": 6,
   "metadata": {},
   "outputs": [
    {
     "data": {
      "text/html": [
       "<div>\n",
       "<table border=\"1\" class=\"dataframe\">\n",
       "  <thead>\n",
       "    <tr style=\"text-align: right;\">\n",
       "      <th></th>\n",
       "      <th>Date</th>\n",
       "      <th>Amount</th>\n",
       "      <th>Account</th>\n",
       "      <th>Balance</th>\n",
       "      <th>Category</th>\n",
       "      <th>Description</th>\n",
       "      <th>Transaction Type</th>\n",
       "      <th>Agent</th>\n",
       "      <th>Unnamed: 8</th>\n",
       "    </tr>\n",
       "  </thead>\n",
       "  <tbody>\n",
       "    <tr>\n",
       "      <th>0</th>\n",
       "      <td>Jul 7, 2559 BE, 5:39:02 PM</td>\n",
       "      <td>A$0.00</td>\n",
       "      <td>Wallet</td>\n",
       "      <td>A$0.00</td>\n",
       "      <td>NaN</td>\n",
       "      <td></td>\n",
       "      <td>Opening Balance</td>\n",
       "      <td>NaN</td>\n",
       "      <td>NaN</td>\n",
       "    </tr>\n",
       "    <tr>\n",
       "      <th>1</th>\n",
       "      <td>Jul 7, 2559 BE, 5:41:22 PM</td>\n",
       "      <td>A$12.00</td>\n",
       "      <td>Wallet</td>\n",
       "      <td>(A$12.00)</td>\n",
       "      <td>Groceries</td>\n",
       "      <td>Woolworth</td>\n",
       "      <td>Expense</td>\n",
       "      <td>NaN</td>\n",
       "      <td>NaN</td>\n",
       "    </tr>\n",
       "    <tr>\n",
       "      <th>2</th>\n",
       "      <td>Jul 7, 2559 BE, 5:41:49 PM</td>\n",
       "      <td>A$6.00</td>\n",
       "      <td>Wallet</td>\n",
       "      <td>(A$18.00)</td>\n",
       "      <td>Home: Other</td>\n",
       "      <td>Clothes hanger</td>\n",
       "      <td>Expense</td>\n",
       "      <td>NaN</td>\n",
       "      <td>NaN</td>\n",
       "    </tr>\n",
       "    <tr>\n",
       "      <th>3</th>\n",
       "      <td>Jul 7, 2559 BE, 5:42:30 PM</td>\n",
       "      <td>A$458.00</td>\n",
       "      <td>Wallet</td>\n",
       "      <td>A$440.00</td>\n",
       "      <td>NaN</td>\n",
       "      <td></td>\n",
       "      <td>Balance Adjustment</td>\n",
       "      <td>NaN</td>\n",
       "      <td>NaN</td>\n",
       "    </tr>\n",
       "    <tr>\n",
       "      <th>4</th>\n",
       "      <td>Jul 7, 2559 BE, 11:52:46 PM</td>\n",
       "      <td>A$20.00</td>\n",
       "      <td>Wallet</td>\n",
       "      <td>A$420.00</td>\n",
       "      <td>Dining</td>\n",
       "      <td></td>\n",
       "      <td>Expense</td>\n",
       "      <td>NaN</td>\n",
       "      <td>NaN</td>\n",
       "    </tr>\n",
       "    <tr>\n",
       "      <th>5</th>\n",
       "      <td>Jul 8, 2559 BE, 7:01:39 PM</td>\n",
       "      <td>A$3.30</td>\n",
       "      <td>Wallet</td>\n",
       "      <td>A$416.70</td>\n",
       "      <td>Groceries</td>\n",
       "      <td></td>\n",
       "      <td>Expense</td>\n",
       "      <td>NaN</td>\n",
       "      <td>NaN</td>\n",
       "    </tr>\n",
       "    <tr>\n",
       "      <th>6</th>\n",
       "      <td>Jul 8, 2559 BE, 7:01:56 PM</td>\n",
       "      <td>A$1,200.00</td>\n",
       "      <td>Wallet</td>\n",
       "      <td>(A$783.30)</td>\n",
       "      <td>Home: Rent</td>\n",
       "      <td>550 Bond + 650 July</td>\n",
       "      <td>Expense</td>\n",
       "      <td>NaN</td>\n",
       "      <td>NaN</td>\n",
       "    </tr>\n",
       "    <tr>\n",
       "      <th>7</th>\n",
       "      <td>Jul 9, 2559 BE, 12:07:44 PM</td>\n",
       "      <td>A$20.00</td>\n",
       "      <td>Wallet</td>\n",
       "      <td>(A$803.30)</td>\n",
       "      <td>Transportation: Myki</td>\n",
       "      <td></td>\n",
       "      <td>Expense</td>\n",
       "      <td>NaN</td>\n",
       "      <td>NaN</td>\n",
       "    </tr>\n",
       "    <tr>\n",
       "      <th>8</th>\n",
       "      <td>Jul 9, 2559 BE, 7:18:26 PM</td>\n",
       "      <td>A$12.00</td>\n",
       "      <td>Wallet</td>\n",
       "      <td>(A$815.30)</td>\n",
       "      <td>Dining</td>\n",
       "      <td></td>\n",
       "      <td>Expense</td>\n",
       "      <td>NaN</td>\n",
       "      <td>NaN</td>\n",
       "    </tr>\n",
       "    <tr>\n",
       "      <th>9</th>\n",
       "      <td>Jul 9, 2559 BE, 8:56:00 PM</td>\n",
       "      <td>A$5.00</td>\n",
       "      <td>Wallet</td>\n",
       "      <td>(A$820.30)</td>\n",
       "      <td>Study Goods</td>\n",
       "      <td></td>\n",
       "      <td>Expense</td>\n",
       "      <td>NaN</td>\n",
       "      <td>NaN</td>\n",
       "    </tr>\n",
       "  </tbody>\n",
       "</table>\n",
       "</div>"
      ],
      "text/plain": [
       "                          Date      Amount Account     Balance  \\\n",
       "0   Jul 7, 2559 BE, 5:39:02 PM      A$0.00  Wallet      A$0.00   \n",
       "1   Jul 7, 2559 BE, 5:41:22 PM     A$12.00  Wallet   (A$12.00)   \n",
       "2   Jul 7, 2559 BE, 5:41:49 PM      A$6.00  Wallet   (A$18.00)   \n",
       "3   Jul 7, 2559 BE, 5:42:30 PM    A$458.00  Wallet    A$440.00   \n",
       "4  Jul 7, 2559 BE, 11:52:46 PM     A$20.00  Wallet    A$420.00   \n",
       "5   Jul 8, 2559 BE, 7:01:39 PM      A$3.30  Wallet    A$416.70   \n",
       "6   Jul 8, 2559 BE, 7:01:56 PM  A$1,200.00  Wallet  (A$783.30)   \n",
       "7  Jul 9, 2559 BE, 12:07:44 PM     A$20.00  Wallet  (A$803.30)   \n",
       "8   Jul 9, 2559 BE, 7:18:26 PM     A$12.00  Wallet  (A$815.30)   \n",
       "9   Jul 9, 2559 BE, 8:56:00 PM      A$5.00  Wallet  (A$820.30)   \n",
       "\n",
       "                Category            Description    Transaction Type  Agent  \\\n",
       "0                    NaN                            Opening Balance    NaN   \n",
       "1             Groceries              Woolworth              Expense    NaN   \n",
       "2           Home: Other         Clothes hanger              Expense    NaN   \n",
       "3                    NaN                         Balance Adjustment    NaN   \n",
       "4                Dining                                     Expense    NaN   \n",
       "5             Groceries                                     Expense    NaN   \n",
       "6            Home: Rent    550 Bond + 650 July              Expense    NaN   \n",
       "7  Transportation: Myki                                     Expense    NaN   \n",
       "8                Dining                                     Expense    NaN   \n",
       "9           Study Goods                                     Expense    NaN   \n",
       "\n",
       "   Unnamed: 8  \n",
       "0         NaN  \n",
       "1         NaN  \n",
       "2         NaN  \n",
       "3         NaN  \n",
       "4         NaN  \n",
       "5         NaN  \n",
       "6         NaN  \n",
       "7         NaN  \n",
       "8         NaN  \n",
       "9         NaN  "
      ]
     },
     "execution_count": 6,
     "metadata": {},
     "output_type": "execute_result"
    }
   ],
   "source": [
    "# View the original data\n",
    "data.head(10)"
   ]
  },
  {
   "cell_type": "code",
   "execution_count": 12,
   "metadata": {},
   "outputs": [],
   "source": [
    "# Filter data\n",
    "expenses = data[data['Transaction Type'] == 'Expense']\n",
    "expenses = expenses[['Date', 'Amount', 'Category', 'Description']]"
   ]
  },
  {
   "cell_type": "code",
   "execution_count": 13,
   "metadata": {},
   "outputs": [
    {
     "data": {
      "text/plain": [
       "466"
      ]
     },
     "execution_count": 13,
     "metadata": {},
     "output_type": "execute_result"
    }
   ],
   "source": [
    "len(expenses)"
   ]
  },
  {
   "cell_type": "code",
   "execution_count": 14,
   "metadata": {},
   "outputs": [
    {
     "data": {
      "text/html": [
       "<div>\n",
       "<table border=\"1\" class=\"dataframe\">\n",
       "  <thead>\n",
       "    <tr style=\"text-align: right;\">\n",
       "      <th></th>\n",
       "      <th>Date</th>\n",
       "      <th>Amount</th>\n",
       "      <th>Category</th>\n",
       "      <th>Description</th>\n",
       "    </tr>\n",
       "  </thead>\n",
       "  <tbody>\n",
       "    <tr>\n",
       "      <th>1</th>\n",
       "      <td>Jul 7, 2559 BE, 5:41:22 PM</td>\n",
       "      <td>A$12.00</td>\n",
       "      <td>Groceries</td>\n",
       "      <td>Woolworth</td>\n",
       "    </tr>\n",
       "    <tr>\n",
       "      <th>2</th>\n",
       "      <td>Jul 7, 2559 BE, 5:41:49 PM</td>\n",
       "      <td>A$6.00</td>\n",
       "      <td>Home: Other</td>\n",
       "      <td>Clothes hanger</td>\n",
       "    </tr>\n",
       "    <tr>\n",
       "      <th>4</th>\n",
       "      <td>Jul 7, 2559 BE, 11:52:46 PM</td>\n",
       "      <td>A$20.00</td>\n",
       "      <td>Dining</td>\n",
       "      <td></td>\n",
       "    </tr>\n",
       "    <tr>\n",
       "      <th>5</th>\n",
       "      <td>Jul 8, 2559 BE, 7:01:39 PM</td>\n",
       "      <td>A$3.30</td>\n",
       "      <td>Groceries</td>\n",
       "      <td></td>\n",
       "    </tr>\n",
       "    <tr>\n",
       "      <th>6</th>\n",
       "      <td>Jul 8, 2559 BE, 7:01:56 PM</td>\n",
       "      <td>A$1,200.00</td>\n",
       "      <td>Home: Rent</td>\n",
       "      <td>550 Bond + 650 July</td>\n",
       "    </tr>\n",
       "    <tr>\n",
       "      <th>7</th>\n",
       "      <td>Jul 9, 2559 BE, 12:07:44 PM</td>\n",
       "      <td>A$20.00</td>\n",
       "      <td>Transportation: Myki</td>\n",
       "      <td></td>\n",
       "    </tr>\n",
       "    <tr>\n",
       "      <th>8</th>\n",
       "      <td>Jul 9, 2559 BE, 7:18:26 PM</td>\n",
       "      <td>A$12.00</td>\n",
       "      <td>Dining</td>\n",
       "      <td></td>\n",
       "    </tr>\n",
       "    <tr>\n",
       "      <th>9</th>\n",
       "      <td>Jul 9, 2559 BE, 8:56:00 PM</td>\n",
       "      <td>A$5.00</td>\n",
       "      <td>Study Goods</td>\n",
       "      <td></td>\n",
       "    </tr>\n",
       "    <tr>\n",
       "      <th>10</th>\n",
       "      <td>Jul 11, 2559 BE, 7:01:57 PM</td>\n",
       "      <td>A$5.50</td>\n",
       "      <td>Groceries</td>\n",
       "      <td>Rice and milk</td>\n",
       "    </tr>\n",
       "    <tr>\n",
       "      <th>11</th>\n",
       "      <td>Jul 11, 2559 BE, 7:02:18 PM</td>\n",
       "      <td>A$20.00</td>\n",
       "      <td>Home: Other</td>\n",
       "      <td>Rice cooker</td>\n",
       "    </tr>\n",
       "  </tbody>\n",
       "</table>\n",
       "</div>"
      ],
      "text/plain": [
       "                           Date      Amount               Category  \\\n",
       "1    Jul 7, 2559 BE, 5:41:22 PM     A$12.00             Groceries    \n",
       "2    Jul 7, 2559 BE, 5:41:49 PM      A$6.00           Home: Other    \n",
       "4   Jul 7, 2559 BE, 11:52:46 PM     A$20.00                Dining    \n",
       "5    Jul 8, 2559 BE, 7:01:39 PM      A$3.30             Groceries    \n",
       "6    Jul 8, 2559 BE, 7:01:56 PM  A$1,200.00            Home: Rent    \n",
       "7   Jul 9, 2559 BE, 12:07:44 PM     A$20.00  Transportation: Myki    \n",
       "8    Jul 9, 2559 BE, 7:18:26 PM     A$12.00                Dining    \n",
       "9    Jul 9, 2559 BE, 8:56:00 PM      A$5.00           Study Goods    \n",
       "10  Jul 11, 2559 BE, 7:01:57 PM      A$5.50             Groceries    \n",
       "11  Jul 11, 2559 BE, 7:02:18 PM     A$20.00           Home: Other    \n",
       "\n",
       "              Description  \n",
       "1              Woolworth   \n",
       "2         Clothes hanger   \n",
       "4                          \n",
       "5                          \n",
       "6    550 Bond + 650 July   \n",
       "7                          \n",
       "8                          \n",
       "9                          \n",
       "10          Rice and milk  \n",
       "11            Rice cooker  "
      ]
     },
     "execution_count": 14,
     "metadata": {},
     "output_type": "execute_result"
    }
   ],
   "source": [
    "# Filtered Data\n",
    "expenses.head(10)"
   ]
  },
  {
   "cell_type": "code",
   "execution_count": 18,
   "metadata": {},
   "outputs": [
    {
     "name": "stdout",
     "output_type": "stream",
     "text": [
      "<class 'pandas.core.frame.DataFrame'>\n",
      "Int64Index: 466 entries, 1 to 467\n",
      "Data columns (total 4 columns):\n",
      "Date           466 non-null object\n",
      "Amount         466 non-null object\n",
      "Category       466 non-null object\n",
      "Description    466 non-null object\n",
      "dtypes: object(4)\n",
      "memory usage: 18.2+ KB\n"
     ]
    }
   ],
   "source": [
    "expenses.info()"
   ]
  },
  {
   "cell_type": "code",
   "execution_count": 19,
   "metadata": {},
   "outputs": [
    {
     "data": {
      "text/plain": [
       "Dining                     194\n",
       "Groceries                  140\n",
       "Entertainment               36\n",
       "Clothing                    25\n",
       "Study Goods                 21\n",
       "Transportation: Myki        20\n",
       "Home: Rent                  12\n",
       "Utilities: Cell Phone        8\n",
       "Transportation: Other        6\n",
       "Home: Other                  2\n",
       "Utilities: Cable             1\n",
       "Utilities: Electricity       1\n",
       "Name: Category, dtype: int64"
      ]
     },
     "execution_count": 19,
     "metadata": {},
     "output_type": "execute_result"
    }
   ],
   "source": [
    "# See unique category\n",
    "expenses['Category'].value_counts()"
   ]
  },
  {
   "cell_type": "code",
   "execution_count": 28,
   "metadata": {},
   "outputs": [],
   "source": [
    "# Combine categories with the same 'CatName:' together\n",
    "for catName in expenses['Category'].unique():\n",
    "    if(':' in catName):\n",
    "        head, sep, tail = catName.partition(':')\n",
    "        expenses.loc[expenses['Category'] == catName, 'Category'] = head"
   ]
  },
  {
   "cell_type": "code",
   "execution_count": 29,
   "metadata": {},
   "outputs": [
    {
     "data": {
      "text/plain": [
       "Dining            194\n",
       "Groceries         140\n",
       "Entertainment      36\n",
       "Transportation     26\n",
       "Clothing           25\n",
       "Study Goods        21\n",
       "Home               14\n",
       "Utilities          10\n",
       "Name: Category, dtype: int64"
      ]
     },
     "execution_count": 29,
     "metadata": {},
     "output_type": "execute_result"
    }
   ],
   "source": [
    "# Check the result\n",
    "expenses['Category'].value_counts()"
   ]
  },
  {
   "cell_type": "code",
   "execution_count": null,
   "metadata": {
    "collapsed": true
   },
   "outputs": [],
   "source": [
    "# Change 'Date' to datetime type\n"
   ]
  },
  {
   "cell_type": "code",
   "execution_count": null,
   "metadata": {
    "collapsed": true
   },
   "outputs": [],
   "source": [
    "# Change 'Amount' to number type"
   ]
  }
 ],
 "metadata": {
  "kernelspec": {
   "display_name": "Python 3",
   "language": "python",
   "name": "python3"
  },
  "language_info": {
   "codemirror_mode": {
    "name": "ipython",
    "version": 3
   },
   "file_extension": ".py",
   "mimetype": "text/x-python",
   "name": "python",
   "nbconvert_exporter": "python",
   "pygments_lexer": "ipython3",
   "version": "3.6.0"
  }
 },
 "nbformat": 4,
 "nbformat_minor": 2
}
